{
 "cells": [
  {
   "cell_type": "markdown",
   "id": "fe12c203-e6a6-452c-a655-afb8a03a4ff5",
   "metadata": {},
   "source": [
    "# End of week 1 exercise\n",
    "\n",
    "To demonstrate your familiarity with OpenAI API, and also Ollama, build a tool that takes a technical question,  \n",
    "and responds with an explanation. This is a tool that you will be able to use yourself during the course!"
   ]
  },
  {
   "cell_type": "code",
   "execution_count": 1,
   "id": "c1070317-3ed9-4659-abe3-828943230e03",
   "metadata": {},
   "outputs": [],
   "source": [
    "# imports\n",
    "import os\n",
    "import requests\n",
    "import json\n",
    "from typing import List\n",
    "from dotenv import load_dotenv\n",
    "from bs4 import BeautifulSoup\n",
    "from IPython.display import Markdown, display, update_display\n",
    "from openai import OpenAI"
   ]
  },
  {
   "cell_type": "code",
   "execution_count": 2,
   "id": "4a456906-915a-4bfd-bb9d-57e505c5093f",
   "metadata": {},
   "outputs": [],
   "source": [
    "# constants\n",
    "\n",
    "MODEL_GPT = \"gpt-4o-mini\"\n",
    "MODEL_LLAMA = \"llama3.2\""
   ]
  },
  {
   "cell_type": "code",
   "execution_count": 3,
   "id": "a8d7923c-5f28-4c30-8556-342d7c8497c1",
   "metadata": {},
   "outputs": [
    {
     "name": "stdout",
     "output_type": "stream",
     "text": [
      "API key looks good so far.\n"
     ]
    }
   ],
   "source": [
    "# set up environment\n",
    "load_dotenv(override=True)\n",
    "api_key = os.getenv(\"OPENAI_API_KEY\")\n",
    "\n",
    "if api_key and api_key.startswith(\"sk-proj-\") and len(api_key) > 10:\n",
    "    print(\"API key looks good so far.\")\n",
    "else:\n",
    "    print(\"API key is not set or invalid. Please check your .env file.\")\n",
    "\n",
    "openai = OpenAI()"
   ]
  },
  {
   "cell_type": "code",
   "execution_count": 4,
   "id": "3f0d0137-52b0-47a8-81a8-11a90a010798",
   "metadata": {},
   "outputs": [],
   "source": [
    "# here is the question; type over this to ask something new\n",
    "\n",
    "system_prompt = \"You are a helpful assistant that explains code snippets in detail. \\\n",
    "    You are also a Python expert and can help with Python programming questions. \\\n",
    "    Response in markdown. Give detailed explanations and examples when needed.\"\n",
    "\n",
    "question = \"\"\"\n",
    "Please explain what this code does and why:\n",
    "yield from {book.get(\"author\") for book in books if book.get(\"author\")}\n",
    "\"\"\""
   ]
  },
  {
   "cell_type": "code",
   "execution_count": null,
   "id": "9d07d4f9",
   "metadata": {},
   "outputs": [],
   "source": [
    "messages = [\n",
    "    {\"role\": \"system\", \"content\": system_prompt},\n",
    "    {\"role\": \"user\", \"content\": question},\n",
    "]\n",
    "\n",
    "\n",
    "def create_answer(question, ai_model):\n",
    "    response = openai.chat.completions.create(\n",
    "        model=ai_model, messages=messages, stream=True\n",
    "    )\n",
    "    result = response.choices[0].message.content\n",
    "    display(Markdown(result))"
   ]
  },
  {
   "cell_type": "code",
   "execution_count": 6,
   "id": "60ce7000-a4a5-4cce-a261-e75ef45063b4",
   "metadata": {},
   "outputs": [
    {
     "data": {
      "text/markdown": [
       "Sure! Let's break down the code snippet you provided:\n",
       "\n",
       "```python\n",
       "yield from {book.get(\"author\") for book in books if book.get(\"author\")}\n",
       "```\n",
       "\n",
       "### Explanation\n",
       "\n",
       "1. **Context of `yield from`**:\n",
       "   - The keyword `yield` is used in Python functions to define a generator. A generator is a special type of iterator that allows you to iterate over a sequence of values without storing the entire sequence in memory at once. \n",
       "   - The `yield from` expression is used to delegate part of a generator’s operations to another iterable. In this case, it’s delegating to a set comprehension.\n",
       "\n",
       "2. **Set Comprehension**:\n",
       "   - The expression `{book.get(\"author\") for book in books if book.get(\"author\")}` is a set comprehension. It's a concise way to create a set based on an iterable. \n",
       "   - A set is created that includes the results of `book.get(\"author\")` for each `book` in the `books` iterable, but only if `book.get(\"author\")` returns a truthy value (meaning it's not `None` or empty).\n",
       "\n",
       "3. **Breaking Down the Set Comprehension**:\n",
       "   - `for book in books`: This iterates over each item in `books`, where `books` is expected to be a collection (like a list) of book dictionaries.\n",
       "   - `book.get(\"author\")`: This retrieves the value associated with the key `\"author\"` in each `book` dictionary. If the key doesn't exist, it returns `None`.\n",
       "   - `if book.get(\"author\")`: This condition filters out any books that do not have an author. Only the authors that are valid (non-empty and not `None`) will be included in the resulting set.\n",
       "\n",
       "4. **Resulting Set**:\n",
       "   - The result of the set comprehension is a set of unique author names from all the books in the `books` collection. Since it's a set, any duplicate author names will be eliminated.\n",
       "\n",
       "5. **Using `yield from`**:\n",
       "   - `yield from` will yield each of the unique authors one at a time as part of the generator's output. This allows a caller of the generator to iterate over the authors directly as if they were yielded one by one.\n",
       "\n",
       "### Example\n",
       "\n",
       "Here's a practical example to illustrate how this works:\n",
       "\n",
       "```python\n",
       "def get_authors(books):\n",
       "    yield from {book.get(\"author\") for book in books if book.get(\"author\")}\n",
       "\n",
       "# Sample book list\n",
       "books = [\n",
       "    {\"title\": \"Book A\", \"author\": \"Author 1\"},\n",
       "    {\"title\": \"Book B\", \"author\": \"Author 2\"},\n",
       "    {\"title\": \"Book C\"},  # No author\n",
       "    {\"title\": \"Book D\", \"author\": \"Author 1\"},  # Duplicate author\n",
       "    {\"title\": \"Book E\", \"author\": \"Author 3\"}\n",
       "]\n",
       "\n",
       "# Using the generator\n",
       "for author in get_authors(books):\n",
       "    print(author)\n",
       "```\n",
       "\n",
       "### Output\n",
       "\n",
       "```\n",
       "Author 1\n",
       "Author 2\n",
       "Author 3\n",
       "```\n",
       "\n",
       "### Summary\n",
       "- The code snippet generates a set of unique author names from a collection of book dictionaries, skipping any that do not have an associated author, and then yields each author one at a time. This is an efficient way of handling potentially large collections of data while avoiding duplicates and unnecessary memory usage."
      ],
      "text/plain": [
       "<IPython.core.display.Markdown object>"
      ]
     },
     "metadata": {},
     "output_type": "display_data"
    }
   ],
   "source": [
    "# Get gpt-4o-mini to answer, with streaming\n",
    "create_answer(question, MODEL_GPT)"
   ]
  },
  {
   "cell_type": "code",
   "execution_count": 11,
   "id": "8f7c8ea8-4082-4ad0-8751-3301adcf6538",
   "metadata": {},
   "outputs": [
    {
     "data": {
      "text/markdown": [
       "**Breaking Down the Code**\n",
       "==========================\n",
       "\n",
       "This line of code uses a combination of Python features to extract author names from a list of dictionaries, `books`. It's a powerful snippet that can be broken down into smaller components for better understanding.\n",
       "\n",
       "### Code Components\n",
       "\n",
       "Let's break down the code into its individual components:\n",
       "\n",
       "```python\n",
       "yield from {book.get(\"author\") for book in books if book.get(\"author\")}\n",
       "```\n",
       "\n",
       "*   `{...}`: This is a dictionary comprehension (also known as an expression comprehension) that generates a new list of authors. The syntax was introduced in Python 3.5.\n",
       "*   `for book in books`: This is a loop over the `books` list, iterating over each dictionary (`book`) in the collection.\n",
       "*   `if book.get(\"author\")`: This condition filters the results to only include dictionaries that have an `\"author\"` key.\n",
       "*   `yield from {...}`: This keyword uses the generator expression syntax with the `yield from` statement.\n",
       "\n",
       "### What's Happening Here?\n",
       "\n",
       "Here's a step-by-step explanation of what happens when this code is executed:\n",
       "\n",
       "1.  **Filtering the Data**: The initial condition, `if book.get(\"author\")`, ensures that only dictionaries containing an `\"author\"` key are considered for inclusion in the resulting list.\n",
       "2.  **Generating Author Names as a Dictionary Comprehension**: Inside the loop and using the dictionary comprehension `{...}`, each filtered `book` is used to generate its author name (`book.get(\"author\")`). This creates a new dictionary that contains only the author names.\n",
       "\n",
       "However, this might lead to an error if there are values in your dataset other than strings (like integers or lists):\n",
       "```python\n",
       "books = [\n",
       "    {\"id\": 1, \"name\": \"Book One\", \"author_id\": 111},\n",
       "    {\"id\":2 ,\"name\":\" Book Two\",\" author:\"Author Three\"}\n",
       "    \n",
       "]\n",
       "yield from {book.get(\"author\") for book in books if book.get(\"author\")}\n",
       "# returns {\"Author Three\":[\"Book One\",\" Book Two\"]}\n",
       "```\n",
       "\n",
       "3.  **Yielding a Sequence of Author Names**: The `yield from` statement is used to yield a generator expression, which produces the author names one by one.\n",
       "\n",
       "In summary, this line of code effectively extracts the author names (if present in each dictionary) and returns them as a sequence from another sequence using the `yield from` syntax with a dictionary comprehension.\n",
       "\n",
       "### Python Best Practices\n",
       "\n",
       "Here are some best practices:\n",
       "\n",
       "*   Make sure to consider edge cases (e.g., empty dictionaries or unexpected key values).\n",
       "\n",
       "**Example Code**\n",
       "```python\n",
       "# Example dataset of book objects with author information\n",
       "books = [\n",
       "    {\"id\": 1, \"name\": \"Book One\", \"author_id\": 111},\n",
       "    {\"id\": 2, \"name\":\" Book Two\",\" author:\"Author Three\"},\n",
       "    # more books here...\n",
       "]\n",
       "\n",
       "def get_authors():\n",
       "    \"\"\"Filtered list of authors\"\"\"\n",
       "    return yield from {book.get(\"author\") for book in books if book.get(\"author\")}\n",
       "\n",
       "# Execute and iterate over the generator (e.g., on a file or in-line function usage)\n",
       "for author_name in get_authors():\n",
       "    print(author_name)  # prints only those with actual data\n",
       "```"
      ],
      "text/plain": [
       "<IPython.core.display.Markdown object>"
      ]
     },
     "metadata": {},
     "output_type": "display_data"
    }
   ],
   "source": [
    "# Get Llama 3.2 to answer\n",
    "ollama_via_openai = OpenAI(base_url=\"http://localhost:11434/v1\", api_key=\"ollama\")\n",
    "\n",
    "response = ollama_via_openai.chat.completions.create(\n",
    "    model=MODEL_LLAMA,\n",
    "    messages=[\n",
    "        {\"role\": \"system\", \"content\": system_prompt},\n",
    "        {\"role\": \"user\", \"content\": question},\n",
    "    ],\n",
    ")\n",
    "\n",
    "result = response.choices[0].message.content\n",
    "display(Markdown(result))"
   ]
  }
 ],
 "metadata": {
  "kernelspec": {
   "display_name": "llms",
   "language": "python",
   "name": "python3"
  },
  "language_info": {
   "codemirror_mode": {
    "name": "ipython",
    "version": 3
   },
   "file_extension": ".py",
   "mimetype": "text/x-python",
   "name": "python",
   "nbconvert_exporter": "python",
   "pygments_lexer": "ipython3",
   "version": "3.12.10"
  }
 },
 "nbformat": 4,
 "nbformat_minor": 5
}
